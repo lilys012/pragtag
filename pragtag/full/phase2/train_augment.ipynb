{
 "cells": [
  {
   "cell_type": "code",
   "execution_count": 1,
   "id": "4c0926fd",
   "metadata": {},
   "outputs": [],
   "source": [
    "train_dir='../train_inputs_full.json'"
   ]
  },
  {
   "cell_type": "code",
   "execution_count": 2,
   "id": "48ef4358",
   "metadata": {},
   "outputs": [
    {
     "data": {
      "text/plain": [
       "'0.3.12'"
      ]
     },
     "execution_count": 2,
     "metadata": {},
     "output_type": "execute_result"
    }
   ],
   "source": [
    "import json\n",
    "import random\n",
    "import bert_score\n",
    "bert_score.__version__"
   ]
  },
  {
   "cell_type": "code",
   "execution_count": 4,
   "id": "9017d8dd",
   "metadata": {},
   "outputs": [],
   "source": [
    "import logging\n",
    "import transformers\n",
    "transformers.tokenization_utils.logger.setLevel(logging.ERROR)\n",
    "transformers.configuration_utils.logger.setLevel(logging.ERROR)\n",
    "transformers.modeling_utils.logger.setLevel(logging.ERROR)"
   ]
  },
  {
   "cell_type": "code",
   "execution_count": 5,
   "id": "e130eacc",
   "metadata": {},
   "outputs": [],
   "source": [
    "import torch"
   ]
  },
  {
   "cell_type": "code",
   "execution_count": 6,
   "id": "1c017a98",
   "metadata": {},
   "outputs": [],
   "source": [
    "%matplotlib inline\n",
    "import matplotlib.pyplot as plt\n",
    "from matplotlib import rcParams\n",
    "\n",
    "rcParams[\"xtick.major.size\"] = 0\n",
    "rcParams[\"xtick.minor.size\"] = 0\n",
    "rcParams[\"ytick.major.size\"] = 0\n",
    "rcParams[\"ytick.minor.size\"] = 0\n",
    "\n",
    "rcParams[\"axes.labelsize\"] = \"large\"\n",
    "rcParams[\"axes.axisbelow\"] = True\n",
    "rcParams[\"axes.grid\"] = True"
   ]
  },
  {
   "cell_type": "code",
   "execution_count": 7,
   "id": "08f4a7e0",
   "metadata": {},
   "outputs": [],
   "source": [
    "from bert_score import score"
   ]
  },
  {
   "cell_type": "code",
   "execution_count": 8,
   "id": "ebbc2d2a",
   "metadata": {},
   "outputs": [],
   "source": [
    "with open(train_dir) as f:\n",
    "    orig_train=json.load(f)"
   ]
  },
  {
   "cell_type": "code",
   "execution_count": 5,
   "id": "011a58fa",
   "metadata": {},
   "outputs": [],
   "source": [
    "with open(train_dir) as f:\n",
    "    train=json.load(f)"
   ]
  },
  {
   "cell_type": "code",
   "execution_count": 3,
   "id": "bc43bc37",
   "metadata": {},
   "outputs": [],
   "source": [
    "case=0\n",
    "rpkg=0\n",
    "iscb=0\n",
    "diso=0\n",
    "scip=0\n",
    "\n",
    "c_t=0\n",
    "c_o=0\n",
    "c_w=0\n",
    "c_r=0\n",
    "c_str=0\n",
    "c_sth=0\n",
    "\n",
    "r_t=0\n",
    "r_o=0\n",
    "r_w=0\n",
    "r_r=0\n",
    "r_str=0\n",
    "r_sth=0\n",
    "\n",
    "i_t=0\n",
    "i_o=0\n",
    "i_w=0\n",
    "i_r=0\n",
    "i_str=0\n",
    "i_sth=0\n",
    "\n",
    "d_t=0\n",
    "d_o=0\n",
    "d_w=0\n",
    "d_r=0\n",
    "d_str=0\n",
    "d_sth=0\n",
    "\n",
    "s_t=0\n",
    "s_o=0\n",
    "s_w=0\n",
    "s_r=0\n",
    "s_str=0\n",
    "s_sth=0"
   ]
  },
  {
   "cell_type": "code",
   "execution_count": 6,
   "id": "df00bbba",
   "metadata": {},
   "outputs": [],
   "source": [
    "orig_data={\"case\":{\"Todo\":[], \"Other\":[], \"Weakness\":[], \"Recap\":[], \"Structure\":[], \"Strength\":[]}, \"rpkg\":{\"Todo\":[], \"Other\":[], \"Weakness\":[], \"Recap\":[], \"Structure\":[], \"Strength\":[]},\"iscb\":{\"Todo\":[], \"Other\":[], \"Weakness\":[], \"Recap\":[], \"Structure\":[], \"Strength\":[]}, \"diso\":{\"Todo\":[], \"Other\":[], \"Weakness\":[], \"Recap\":[], \"Structure\":[], \"Strength\":[]},\"scip\":{\"Todo\":[], \"Other\":[], \"Weakness\":[], \"Recap\":[], \"Structure\":[], \"Strength\":[]}}\n",
    "c_sen=[]\n",
    "c_lab=[]\n",
    "\n",
    "r_sen=[]\n",
    "r_lab=[]\n",
    "\n",
    "i_sen=[]\n",
    "i_lab=[]\n",
    "\n",
    "d_sen=[]\n",
    "d_lab=[]\n",
    "\n",
    "s_sen=[]\n",
    "s_lab=[]\n",
    "for d in train:\n",
    "    if d['domain']=='case':\n",
    "        case+=1\n",
    "        for idx, label in enumerate(d['labels']):\n",
    "            if label=='Todo':\n",
    "                c_t+=1\n",
    "                c_sen.append(d['sentences'][idx])\n",
    "                c_lab.append('Todo')\n",
    "                orig_data['case'][\"Todo\"].append(d['sentences'][idx])\n",
    "            elif label=='Other':\n",
    "                c_o+=1\n",
    "                c_sen.append(d['sentences'][idx])\n",
    "                c_lab.append('Other')\n",
    "                orig_data['case'][\"Other\"].append(d['sentences'][idx])\n",
    "            elif label=='Weakness':\n",
    "                c_w+=1\n",
    "                c_sen.append(d['sentences'][idx])\n",
    "                c_lab.append('Weakness')\n",
    "                orig_data['case'][\"Weakness\"].append(d['sentences'][idx])\n",
    "            elif label=='Recap':\n",
    "                c_r+=1\n",
    "                c_sen.append(d['sentences'][idx])\n",
    "                c_lab.append('Recap')\n",
    "                orig_data['case'][\"Recap\"].append(d['sentences'][idx])\n",
    "            elif label=='Structure':\n",
    "                c_str+=1\n",
    "                c_sen.append(d['sentences'][idx])\n",
    "                c_lab.append('Structure')\n",
    "                orig_data['case'][\"Structure\"].append(d['sentences'][idx])\n",
    "            elif label=='Strength':\n",
    "                c_sth+=1\n",
    "                c_sen.append(d['sentences'][idx])\n",
    "                c_lab.append('Strength')\n",
    "                orig_data['case'][\"Strength\"].append(d['sentences'][idx])\n",
    "    elif d['domain']=='rpkg':\n",
    "        rpkg+=1\n",
    "        for idx, label in enumerate(d['labels']):\n",
    "            if label=='Todo':\n",
    "                r_t+=1\n",
    "                r_sen.append(d['sentences'][idx])\n",
    "                r_lab.append('Todo')\n",
    "                orig_data['rpkg'][\"Todo\"].append(d['sentences'][idx])\n",
    "            elif label=='Other':\n",
    "                r_o+=1\n",
    "                r_sen.append(d['sentences'][idx])\n",
    "                r_lab.append('Other')\n",
    "                orig_data['rpkg'][\"Other\"].append(d['sentences'][idx])\n",
    "            elif label=='Weakness':\n",
    "                r_w+=1\n",
    "                r_sen.append(d['sentences'][idx])\n",
    "                r_lab.append('Weakness')\n",
    "                orig_data['rpkg'][\"Weakness\"].append(d['sentences'][idx])\n",
    "            elif label=='Recap':\n",
    "                r_r+=1\n",
    "                r_sen.append(d['sentences'][idx])\n",
    "                r_lab.append('Recap')\n",
    "                orig_data['rpkg'][\"Recap\"].append(d['sentences'][idx])\n",
    "            elif label=='Structure':\n",
    "                r_str+=1\n",
    "                r_sen.append(d['sentences'][idx])\n",
    "                r_lab.append('Structure')\n",
    "                orig_data['rpkg'][\"Structure\"].append(d['sentences'][idx])\n",
    "            elif label=='Strength':\n",
    "                r_sth+=1\n",
    "                r_sen.append(d['sentences'][idx])\n",
    "                r_lab.append('Strength')\n",
    "                orig_data['rpkg'][\"Strength\"].append(d['sentences'][idx])\n",
    "    elif d['domain']=='iscb':\n",
    "        iscb+=1\n",
    "        for idx, label in enumerate(d['labels']):\n",
    "            if label=='Todo':\n",
    "                i_t+=1\n",
    "                i_sen.append(d['sentences'][idx])\n",
    "                i_lab.append('Todo')\n",
    "                orig_data['iscb'][\"Todo\"].append(d['sentences'][idx])\n",
    "            elif label=='Other':\n",
    "                i_o+=1\n",
    "                i_sen.append(d['sentences'][idx])\n",
    "                i_lab.append('Other')\n",
    "                orig_data['iscb'][\"Other\"].append(d['sentences'][idx])\n",
    "            elif label=='Weakness':\n",
    "                i_w+=1\n",
    "                i_sen.append(d['sentences'][idx])\n",
    "                i_lab.append('Weakness')\n",
    "                orig_data['iscb'][\"Weakness\"].append(d['sentences'][idx])\n",
    "            elif label=='Recap':\n",
    "                i_r+=1\n",
    "                i_sen.append(d['sentences'][idx])\n",
    "                i_lab.append('Recap')\n",
    "                orig_data['iscb'][\"Recap\"].append(d['sentences'][idx])\n",
    "            elif label=='Structure':\n",
    "                i_str+=1\n",
    "                i_sen.append(d['sentences'][idx])\n",
    "                i_lab.append('Structure')\n",
    "                orig_data['iscb'][\"Structure\"].append(d['sentences'][idx])\n",
    "            elif label=='Strength':\n",
    "                i_sth+=1\n",
    "                i_sen.append(d['sentences'][idx])\n",
    "                i_lab.append('Strength')\n",
    "                orig_data['iscb'][\"Strength\"].append(d['sentences'][idx])\n",
    "    elif d['domain']=='diso':\n",
    "        diso+=1\n",
    "        for idx, label in enumerate(d['labels']):\n",
    "            if label=='Todo':\n",
    "                d_t+=1\n",
    "                d_sen.append(d['sentences'][idx])\n",
    "                d_lab.append('Todo')\n",
    "                orig_data['diso'][\"Todo\"].append(d['sentences'][idx])\n",
    "            elif label=='Other':\n",
    "                d_o+=1\n",
    "                d_sen.append(d['sentences'][idx])\n",
    "                d_lab.append('Other')\n",
    "                orig_data['diso'][\"Other\"].append(d['sentences'][idx])\n",
    "            elif label=='Weakness':\n",
    "                d_w+=1\n",
    "                d_sen.append(d['sentences'][idx])\n",
    "                d_lab.append('Weakness')\n",
    "                orig_data['diso'][\"Weakness\"].append(d['sentences'][idx])\n",
    "            elif label=='Recap':\n",
    "                d_r+=1\n",
    "                d_sen.append(d['sentences'][idx])\n",
    "                d_lab.append('Recap')\n",
    "                orig_data['diso'][\"Recap\"].append(d['sentences'][idx])\n",
    "            elif label=='Structure':\n",
    "                d_str+=1\n",
    "                d_sen.append(d['sentences'][idx])\n",
    "                d_lab.append('Structure')\n",
    "                orig_data['diso'][\"Structure\"].append(d['sentences'][idx])\n",
    "            elif label=='Strength':\n",
    "                d_sth+=1\n",
    "                d_sen.append(d['sentences'][idx])\n",
    "                d_lab.append('Strength')\n",
    "                orig_data['diso'][\"Strength\"].append(d['sentences'][idx])\n",
    "    elif d['domain']=='scip':\n",
    "        scip+=1\n",
    "        for idx, label in enumerate(d['labels']):\n",
    "            if label=='Todo':\n",
    "                s_t+=1\n",
    "                s_sen.append(d['sentences'][idx])\n",
    "                s_lab.append('Todo')\n",
    "                orig_data['scip'][\"Todo\"].append(d['sentences'][idx])\n",
    "            elif label=='Other':\n",
    "                s_o+=1\n",
    "                s_sen.append(d['sentences'][idx])\n",
    "                s_lab.append('Other')\n",
    "                orig_data['scip'][\"Other\"].append(d['sentences'][idx])\n",
    "            elif label=='Weakness':\n",
    "                s_w+=1\n",
    "                s_sen.append(d['sentences'][idx])\n",
    "                s_lab.append('Weakness')\n",
    "                orig_data['scip'][\"Weakness\"].append(d['sentences'][idx])\n",
    "            elif label=='Recap':\n",
    "                s_r+=1\n",
    "                s_sen.append(d['sentences'][idx])\n",
    "                s_lab.append('Recap')\n",
    "                orig_data['scip'][\"Recap\"].append(d['sentences'][idx])\n",
    "            elif label=='Structure':\n",
    "                s_str+=1\n",
    "                s_sen.append(d['sentences'][idx])\n",
    "                s_lab.append('Structure')\n",
    "                orig_data['scip'][\"Structure\"].append(d['sentences'][idx])\n",
    "            elif label=='Strength':\n",
    "                s_sth+=1\n",
    "                s_sen.append(d['sentences'][idx])\n",
    "                s_lab.append('Strength')\n",
    "                orig_data['scip'][\"Strength\"].append(d['sentences'][idx])"
   ]
  },
  {
   "cell_type": "markdown",
   "id": "cbf0db06",
   "metadata": {},
   "source": [
    "### Full"
   ]
  },
  {
   "cell_type": "code",
   "execution_count": 7,
   "id": "0a080cb1",
   "metadata": {},
   "outputs": [
    {
     "name": "stdout",
     "output_type": "stream",
     "text": [
      "case\n",
      "126\n",
      "58\n",
      "45\n",
      "72\n",
      "53\n",
      "34\n",
      "diso\n",
      "135\n",
      "79\n",
      "81\n",
      "76\n",
      "61\n",
      "43\n",
      "i\n",
      "173\n",
      "70\n",
      "93\n",
      "77\n",
      "53\n",
      "30\n",
      "rpkg\n",
      "132\n",
      "89\n",
      "85\n",
      "69\n",
      "64\n",
      "67\n",
      "sci\n",
      "115\n",
      "105\n",
      "73\n",
      "52\n",
      "70\n",
      "46\n"
     ]
    }
   ],
   "source": [
    "print(\"case\")\n",
    "print(c_t)\n",
    "print(c_o)\n",
    "print(c_w)\n",
    "print(c_r)\n",
    "print(c_str)\n",
    "print(c_sth)\n",
    "\n",
    "print(\"diso\")\n",
    "print(d_t)\n",
    "print(d_o)\n",
    "print(d_w)\n",
    "print(d_r)\n",
    "print(d_str)\n",
    "print(d_sth)\n",
    "\n",
    "print('i')\n",
    "print(i_t)\n",
    "print(i_o)\n",
    "print(i_w)\n",
    "print(i_r)\n",
    "print(i_str)\n",
    "print(i_sth)\n",
    "\n",
    "print('rpkg')\n",
    "print(r_t)\n",
    "print(r_o)\n",
    "print(r_w)\n",
    "print(r_r)\n",
    "print(r_str)\n",
    "print(r_sth)\n",
    "\n",
    "print('sci')\n",
    "print(s_t)\n",
    "print(s_o)\n",
    "print(s_w)\n",
    "print(s_r)\n",
    "print(s_str)\n",
    "print(s_sth)"
   ]
  },
  {
   "cell_type": "markdown",
   "id": "e6b403bf",
   "metadata": {},
   "source": [
    "### Low"
   ]
  },
  {
   "cell_type": "code",
   "execution_count": 12,
   "id": "dbaefa6d",
   "metadata": {},
   "outputs": [
    {
     "name": "stdout",
     "output_type": "stream",
     "text": [
      "case\n",
      "44\n",
      "10\n",
      "16\n",
      "25\n",
      "18\n",
      "7\n",
      "diso\n",
      "33\n",
      "17\n",
      "36\n",
      "13\n",
      "19\n",
      "11\n",
      "i\n",
      "66\n",
      "27\n",
      "32\n",
      "17\n",
      "14\n",
      "11\n",
      "rpkg\n",
      "36\n",
      "26\n",
      "23\n",
      "17\n",
      "22\n",
      "23\n",
      "sci\n",
      "66\n",
      "26\n",
      "23\n",
      "15\n",
      "36\n",
      "10\n"
     ]
    }
   ],
   "source": [
    "print(\"case\")\n",
    "print(c_t)\n",
    "print(c_o)\n",
    "print(c_w)\n",
    "print(c_r)\n",
    "print(c_str)\n",
    "print(c_sth)\n",
    "\n",
    "print(\"diso\")\n",
    "print(d_t)\n",
    "print(d_o)\n",
    "print(d_w)\n",
    "print(d_r)\n",
    "print(d_str)\n",
    "print(d_sth)\n",
    "\n",
    "print('i')\n",
    "print(i_t)\n",
    "print(i_o)\n",
    "print(i_w)\n",
    "print(i_r)\n",
    "print(i_str)\n",
    "print(i_sth)\n",
    "\n",
    "print('rpkg')\n",
    "print(r_t)\n",
    "print(r_o)\n",
    "print(r_w)\n",
    "print(r_r)\n",
    "print(r_str)\n",
    "print(r_sth)\n",
    "\n",
    "print('sci')\n",
    "print(s_t)\n",
    "print(s_o)\n",
    "print(s_w)\n",
    "print(s_r)\n",
    "print(s_str)\n",
    "print(s_sth)"
   ]
  },
  {
   "cell_type": "code",
   "execution_count": 13,
   "id": "b3aec90f",
   "metadata": {},
   "outputs": [],
   "source": [
    "import nlpaug.augmenter.word as naw"
   ]
  },
  {
   "cell_type": "code",
   "execution_count": 14,
   "id": "1b8d2d24",
   "metadata": {},
   "outputs": [],
   "source": [
    "aug = naw.SynonymAug(aug_src='wordnet')\n"
   ]
  },
  {
   "cell_type": "code",
   "execution_count": 15,
   "id": "60f2dc5a",
   "metadata": {},
   "outputs": [
    {
     "data": {
      "text/plain": [
       "34"
      ]
     },
     "execution_count": 15,
     "metadata": {},
     "output_type": "execute_result"
    }
   ],
   "source": [
    "len(train)"
   ]
  },
  {
   "cell_type": "code",
   "execution_count": 16,
   "id": "cb6afcfb",
   "metadata": {},
   "outputs": [],
   "source": [
    "new_data={\"case\":{\"Todo\":[], \"Other\":[], \"Weakness\":[], \"Recap\":[], \"Structure\":[], \"Strength\":[]}, \"rpkg\":{\"Todo\":[], \"Other\":[], \"Weakness\":[], \"Recap\":[], \"Structure\":[], \"Strength\":[]},\"iscb\":{\"Todo\":[], \"Other\":[], \"Weakness\":[], \"Recap\":[], \"Structure\":[], \"Strength\":[]}, \"diso\":{\"Todo\":[], \"Other\":[], \"Weakness\":[], \"Recap\":[], \"Structure\":[], \"Strength\":[]},\"scip\":{\"Todo\":[], \"Other\":[], \"Weakness\":[], \"Recap\":[], \"Structure\":[], \"Strength\":[]}}\n"
   ]
  },
  {
   "cell_type": "code",
   "execution_count": 17,
   "id": "b2e80705",
   "metadata": {},
   "outputs": [],
   "source": [
    "max_len={'case':{'Other': c_t-c_o, \"Weakness\":c_t-c_w, \"Recap\":c_t-c_r, \"Structure\":c_t-c_str, \"Strength\":c_t-c_sth}, 'diso':{'Other': d_t-d_o, \"Weakness\":d_t-d_w, \"Recap\":d_t-d_r, \"Structure\":d_t-d_str, \"Strength\":d_t-d_sth}, 'rpkg':{'Other': r_t-r_o, \"Weakness\":r_t-r_w, \"Recap\":r_t-r_r, \"Structure\":r_t-r_str, \"Strength\":r_t-r_sth}, 'scip':{'Other': s_t-s_o, \"Weakness\":s_t-s_w, \"Recap\":s_t-s_r, \"Structure\":s_t-s_str, \"Strength\":s_t-s_sth}, 'iscb':{'Other': i_t-i_o, \"Weakness\":i_t-i_w, \"Recap\":i_t-i_r, \"Structure\":i_t-i_str, \"Strength\":i_t-i_sth}}"
   ]
  },
  {
   "cell_type": "code",
   "execution_count": 18,
   "id": "3caa1f0d",
   "metadata": {},
   "outputs": [],
   "source": [
    "for domain in orig_data.keys():\n",
    "    for k in orig_data[domain].keys():\n",
    "        if k!=\"Todo\":\n",
    "            for d in orig_data[domain][k]:\n",
    "                new_data[domain][k].append(aug.augment(d)[0])"
   ]
  },
  {
   "cell_type": "code",
   "execution_count": 19,
   "id": "eeba5a20",
   "metadata": {},
   "outputs": [
    {
     "name": "stdout",
     "output_type": "stream",
     "text": [
      "7\n",
      "7\n"
     ]
    }
   ],
   "source": [
    "print(len(new_data['case']['Strength']))\n",
    "print(len(orig_data['case']['Strength']))"
   ]
  },
  {
   "cell_type": "code",
   "execution_count": 20,
   "id": "bc150cce",
   "metadata": {},
   "outputs": [
    {
     "name": "stdout",
     "output_type": "stream",
     "text": [
      "calculating scores...\n",
      "computing bert embedding.\n"
     ]
    },
    {
     "name": "stderr",
     "output_type": "stream",
     "text": [
      "100%|██████████| 1/1 [00:00<00:00,  2.62it/s]\n"
     ]
    },
    {
     "name": "stdout",
     "output_type": "stream",
     "text": [
      "computing greedy matching.\n"
     ]
    },
    {
     "name": "stderr",
     "output_type": "stream",
     "text": [
      "100%|██████████| 1/1 [00:00<00:00, 467.70it/s]\n"
     ]
    },
    {
     "name": "stdout",
     "output_type": "stream",
     "text": [
      "done in 0.39 seconds, 25.63 sentences/sec\n",
      "calculating scores...\n",
      "computing bert embedding.\n"
     ]
    },
    {
     "name": "stderr",
     "output_type": "stream",
     "text": [
      "100%|██████████| 1/1 [00:00<00:00, 14.55it/s]\n"
     ]
    },
    {
     "name": "stdout",
     "output_type": "stream",
     "text": [
      "computing greedy matching.\n"
     ]
    },
    {
     "name": "stderr",
     "output_type": "stream",
     "text": [
      "100%|██████████| 1/1 [00:00<00:00, 315.03it/s]"
     ]
    },
    {
     "name": "stdout",
     "output_type": "stream",
     "text": [
      "done in 0.08 seconds, 204.19 sentences/sec\n"
     ]
    },
    {
     "name": "stderr",
     "output_type": "stream",
     "text": [
      "\n"
     ]
    },
    {
     "name": "stdout",
     "output_type": "stream",
     "text": [
      "calculating scores...\n",
      "computing bert embedding.\n"
     ]
    },
    {
     "name": "stderr",
     "output_type": "stream",
     "text": [
      "100%|██████████| 1/1 [00:00<00:00, 12.60it/s]\n"
     ]
    },
    {
     "name": "stdout",
     "output_type": "stream",
     "text": [
      "computing greedy matching.\n"
     ]
    },
    {
     "name": "stderr",
     "output_type": "stream",
     "text": [
      "100%|██████████| 1/1 [00:00<00:00, 278.49it/s]"
     ]
    },
    {
     "name": "stdout",
     "output_type": "stream",
     "text": [
      "done in 0.09 seconds, 273.23 sentences/sec\n"
     ]
    },
    {
     "name": "stderr",
     "output_type": "stream",
     "text": [
      "\n"
     ]
    },
    {
     "name": "stdout",
     "output_type": "stream",
     "text": [
      "calculating scores...\n",
      "computing bert embedding.\n"
     ]
    },
    {
     "name": "stderr",
     "output_type": "stream",
     "text": [
      "100%|██████████| 1/1 [00:00<00:00, 36.45it/s]\n"
     ]
    },
    {
     "name": "stdout",
     "output_type": "stream",
     "text": [
      "computing greedy matching.\n"
     ]
    },
    {
     "name": "stderr",
     "output_type": "stream",
     "text": [
      "100%|██████████| 1/1 [00:00<00:00, 396.59it/s]"
     ]
    },
    {
     "name": "stdout",
     "output_type": "stream",
     "text": [
      "done in 0.04 seconds, 476.45 sentences/sec\n"
     ]
    },
    {
     "name": "stderr",
     "output_type": "stream",
     "text": [
      "\n"
     ]
    },
    {
     "name": "stdout",
     "output_type": "stream",
     "text": [
      "calculating scores...\n",
      "computing bert embedding.\n"
     ]
    },
    {
     "name": "stderr",
     "output_type": "stream",
     "text": [
      "100%|██████████| 1/1 [00:00<00:00, 39.04it/s]\n"
     ]
    },
    {
     "name": "stdout",
     "output_type": "stream",
     "text": [
      "computing greedy matching.\n"
     ]
    },
    {
     "name": "stderr",
     "output_type": "stream",
     "text": [
      "100%|██████████| 1/1 [00:00<00:00, 523.31it/s]"
     ]
    },
    {
     "name": "stdout",
     "output_type": "stream",
     "text": [
      "done in 0.04 seconds, 191.82 sentences/sec\n"
     ]
    },
    {
     "name": "stderr",
     "output_type": "stream",
     "text": [
      "\n"
     ]
    },
    {
     "name": "stdout",
     "output_type": "stream",
     "text": [
      "calculating scores...\n",
      "computing bert embedding.\n"
     ]
    },
    {
     "name": "stderr",
     "output_type": "stream",
     "text": [
      "100%|██████████| 1/1 [00:00<00:00,  8.33it/s]\n"
     ]
    },
    {
     "name": "stdout",
     "output_type": "stream",
     "text": [
      "computing greedy matching.\n"
     ]
    },
    {
     "name": "stderr",
     "output_type": "stream",
     "text": [
      "100%|██████████| 1/1 [00:00<00:00, 209.33it/s]"
     ]
    },
    {
     "name": "stdout",
     "output_type": "stream",
     "text": [
      "done in 0.13 seconds, 193.69 sentences/sec\n"
     ]
    },
    {
     "name": "stderr",
     "output_type": "stream",
     "text": [
      "\n"
     ]
    },
    {
     "name": "stdout",
     "output_type": "stream",
     "text": [
      "calculating scores...\n",
      "computing bert embedding.\n"
     ]
    },
    {
     "name": "stderr",
     "output_type": "stream",
     "text": [
      "100%|██████████| 1/1 [00:00<00:00,  8.71it/s]\n"
     ]
    },
    {
     "name": "stdout",
     "output_type": "stream",
     "text": [
      "computing greedy matching.\n"
     ]
    },
    {
     "name": "stderr",
     "output_type": "stream",
     "text": [
      "100%|██████████| 1/1 [00:00<00:00, 224.93it/s]"
     ]
    },
    {
     "name": "stdout",
     "output_type": "stream",
     "text": [
      "done in 0.13 seconds, 178.07 sentences/sec\n"
     ]
    },
    {
     "name": "stderr",
     "output_type": "stream",
     "text": [
      "\n"
     ]
    },
    {
     "name": "stdout",
     "output_type": "stream",
     "text": [
      "calculating scores...\n",
      "computing bert embedding.\n"
     ]
    },
    {
     "name": "stderr",
     "output_type": "stream",
     "text": [
      "100%|██████████| 1/1 [00:00<00:00, 16.81it/s]\n"
     ]
    },
    {
     "name": "stdout",
     "output_type": "stream",
     "text": [
      "computing greedy matching.\n"
     ]
    },
    {
     "name": "stderr",
     "output_type": "stream",
     "text": [
      "100%|██████████| 1/1 [00:00<00:00, 431.47it/s]"
     ]
    },
    {
     "name": "stdout",
     "output_type": "stream",
     "text": [
      "done in 0.07 seconds, 258.18 sentences/sec\n"
     ]
    },
    {
     "name": "stderr",
     "output_type": "stream",
     "text": [
      "\n"
     ]
    },
    {
     "name": "stdout",
     "output_type": "stream",
     "text": [
      "calculating scores...\n",
      "computing bert embedding.\n"
     ]
    },
    {
     "name": "stderr",
     "output_type": "stream",
     "text": [
      "100%|██████████| 1/1 [00:00<00:00, 30.51it/s]\n"
     ]
    },
    {
     "name": "stdout",
     "output_type": "stream",
     "text": [
      "computing greedy matching.\n"
     ]
    },
    {
     "name": "stderr",
     "output_type": "stream",
     "text": [
      "100%|██████████| 1/1 [00:00<00:00, 361.95it/s]"
     ]
    },
    {
     "name": "stdout",
     "output_type": "stream",
     "text": [
      "done in 0.04 seconds, 571.18 sentences/sec\n"
     ]
    },
    {
     "name": "stderr",
     "output_type": "stream",
     "text": [
      "\n"
     ]
    },
    {
     "name": "stdout",
     "output_type": "stream",
     "text": [
      "calculating scores...\n",
      "computing bert embedding.\n"
     ]
    },
    {
     "name": "stderr",
     "output_type": "stream",
     "text": [
      "100%|██████████| 1/1 [00:00<00:00,  9.21it/s]\n"
     ]
    },
    {
     "name": "stdout",
     "output_type": "stream",
     "text": [
      "computing greedy matching.\n"
     ]
    },
    {
     "name": "stderr",
     "output_type": "stream",
     "text": [
      "100%|██████████| 1/1 [00:00<00:00, 349.70it/s]"
     ]
    },
    {
     "name": "stdout",
     "output_type": "stream",
     "text": [
      "done in 0.11 seconds, 200.54 sentences/sec\n"
     ]
    },
    {
     "name": "stderr",
     "output_type": "stream",
     "text": [
      "\n"
     ]
    },
    {
     "name": "stdout",
     "output_type": "stream",
     "text": [
      "calculating scores...\n",
      "computing bert embedding.\n"
     ]
    },
    {
     "name": "stderr",
     "output_type": "stream",
     "text": [
      "100%|██████████| 1/1 [00:00<00:00,  4.97it/s]\n"
     ]
    },
    {
     "name": "stdout",
     "output_type": "stream",
     "text": [
      "computing greedy matching.\n"
     ]
    },
    {
     "name": "stderr",
     "output_type": "stream",
     "text": [
      "100%|██████████| 1/1 [00:00<00:00, 222.34it/s]\n"
     ]
    },
    {
     "name": "stdout",
     "output_type": "stream",
     "text": [
      "done in 0.21 seconds, 129.29 sentences/sec\n",
      "calculating scores...\n",
      "computing bert embedding.\n"
     ]
    },
    {
     "name": "stderr",
     "output_type": "stream",
     "text": [
      "100%|██████████| 1/1 [00:00<00:00,  6.87it/s]\n"
     ]
    },
    {
     "name": "stdout",
     "output_type": "stream",
     "text": [
      "computing greedy matching.\n"
     ]
    },
    {
     "name": "stderr",
     "output_type": "stream",
     "text": [
      "100%|██████████| 1/1 [00:00<00:00, 280.87it/s]"
     ]
    },
    {
     "name": "stdout",
     "output_type": "stream",
     "text": [
      "done in 0.15 seconds, 208.73 sentences/sec\n"
     ]
    },
    {
     "name": "stderr",
     "output_type": "stream",
     "text": [
      "\n"
     ]
    },
    {
     "name": "stdout",
     "output_type": "stream",
     "text": [
      "calculating scores...\n",
      "computing bert embedding.\n"
     ]
    },
    {
     "name": "stderr",
     "output_type": "stream",
     "text": [
      "100%|██████████| 1/1 [00:00<00:00, 13.56it/s]\n"
     ]
    },
    {
     "name": "stdout",
     "output_type": "stream",
     "text": [
      "computing greedy matching.\n"
     ]
    },
    {
     "name": "stderr",
     "output_type": "stream",
     "text": [
      "100%|██████████| 1/1 [00:00<00:00, 328.60it/s]"
     ]
    },
    {
     "name": "stdout",
     "output_type": "stream",
     "text": [
      "done in 0.08 seconds, 210.94 sentences/sec\n"
     ]
    },
    {
     "name": "stderr",
     "output_type": "stream",
     "text": [
      "\n"
     ]
    },
    {
     "name": "stdout",
     "output_type": "stream",
     "text": [
      "calculating scores...\n",
      "computing bert embedding.\n"
     ]
    },
    {
     "name": "stderr",
     "output_type": "stream",
     "text": [
      "100%|██████████| 1/1 [00:00<00:00, 58.78it/s]\n"
     ]
    },
    {
     "name": "stdout",
     "output_type": "stream",
     "text": [
      "computing greedy matching.\n"
     ]
    },
    {
     "name": "stderr",
     "output_type": "stream",
     "text": [
      "100%|██████████| 1/1 [00:00<00:00, 417.68it/s]"
     ]
    },
    {
     "name": "stdout",
     "output_type": "stream",
     "text": [
      "done in 0.03 seconds, 539.62 sentences/sec\n"
     ]
    },
    {
     "name": "stderr",
     "output_type": "stream",
     "text": [
      "\n"
     ]
    },
    {
     "name": "stdout",
     "output_type": "stream",
     "text": [
      "calculating scores...\n",
      "computing bert embedding.\n"
     ]
    },
    {
     "name": "stderr",
     "output_type": "stream",
     "text": [
      "100%|██████████| 1/1 [00:00<00:00, 16.03it/s]\n"
     ]
    },
    {
     "name": "stdout",
     "output_type": "stream",
     "text": [
      "computing greedy matching.\n"
     ]
    },
    {
     "name": "stderr",
     "output_type": "stream",
     "text": [
      "100%|██████████| 1/1 [00:00<00:00, 302.71it/s]"
     ]
    },
    {
     "name": "stdout",
     "output_type": "stream",
     "text": [
      "done in 0.08 seconds, 145.78 sentences/sec\n"
     ]
    },
    {
     "name": "stderr",
     "output_type": "stream",
     "text": [
      "\n"
     ]
    },
    {
     "name": "stdout",
     "output_type": "stream",
     "text": [
      "calculating scores...\n",
      "computing bert embedding.\n"
     ]
    },
    {
     "name": "stderr",
     "output_type": "stream",
     "text": [
      "100%|██████████| 1/1 [00:00<00:00, 12.49it/s]\n"
     ]
    },
    {
     "name": "stdout",
     "output_type": "stream",
     "text": [
      "computing greedy matching.\n"
     ]
    },
    {
     "name": "stderr",
     "output_type": "stream",
     "text": [
      "100%|██████████| 1/1 [00:00<00:00, 223.14it/s]"
     ]
    },
    {
     "name": "stdout",
     "output_type": "stream",
     "text": [
      "done in 0.09 seconds, 181.67 sentences/sec\n"
     ]
    },
    {
     "name": "stderr",
     "output_type": "stream",
     "text": [
      "\n"
     ]
    },
    {
     "name": "stdout",
     "output_type": "stream",
     "text": [
      "calculating scores...\n",
      "computing bert embedding.\n"
     ]
    },
    {
     "name": "stderr",
     "output_type": "stream",
     "text": [
      "100%|██████████| 2/2 [00:00<00:00, 13.28it/s]\n"
     ]
    },
    {
     "name": "stdout",
     "output_type": "stream",
     "text": [
      "computing greedy matching.\n"
     ]
    },
    {
     "name": "stderr",
     "output_type": "stream",
     "text": [
      "100%|██████████| 1/1 [00:00<00:00, 211.92it/s]"
     ]
    },
    {
     "name": "stdout",
     "output_type": "stream",
     "text": [
      "done in 0.16 seconds, 218.25 sentences/sec\n"
     ]
    },
    {
     "name": "stderr",
     "output_type": "stream",
     "text": [
      "\n"
     ]
    },
    {
     "name": "stdout",
     "output_type": "stream",
     "text": [
      "calculating scores...\n",
      "computing bert embedding.\n"
     ]
    },
    {
     "name": "stderr",
     "output_type": "stream",
     "text": [
      "100%|██████████| 1/1 [00:00<00:00, 18.47it/s]\n"
     ]
    },
    {
     "name": "stdout",
     "output_type": "stream",
     "text": [
      "computing greedy matching.\n"
     ]
    },
    {
     "name": "stderr",
     "output_type": "stream",
     "text": [
      "100%|██████████| 1/1 [00:00<00:00, 372.60it/s]"
     ]
    },
    {
     "name": "stdout",
     "output_type": "stream",
     "text": [
      "done in 0.07 seconds, 199.51 sentences/sec\n"
     ]
    },
    {
     "name": "stderr",
     "output_type": "stream",
     "text": [
      "\n"
     ]
    },
    {
     "name": "stdout",
     "output_type": "stream",
     "text": [
      "calculating scores...\n",
      "computing bert embedding.\n"
     ]
    },
    {
     "name": "stderr",
     "output_type": "stream",
     "text": [
      "100%|██████████| 1/1 [00:00<00:00, 35.78it/s]\n"
     ]
    },
    {
     "name": "stdout",
     "output_type": "stream",
     "text": [
      "computing greedy matching.\n"
     ]
    },
    {
     "name": "stderr",
     "output_type": "stream",
     "text": [
      "100%|██████████| 1/1 [00:00<00:00, 339.07it/s]"
     ]
    },
    {
     "name": "stdout",
     "output_type": "stream",
     "text": [
      "done in 0.04 seconds, 476.65 sentences/sec\n"
     ]
    },
    {
     "name": "stderr",
     "output_type": "stream",
     "text": [
      "\n"
     ]
    },
    {
     "name": "stdout",
     "output_type": "stream",
     "text": [
      "calculating scores...\n",
      "computing bert embedding.\n"
     ]
    },
    {
     "name": "stderr",
     "output_type": "stream",
     "text": [
      "100%|██████████| 1/1 [00:00<00:00, 22.67it/s]\n"
     ]
    },
    {
     "name": "stdout",
     "output_type": "stream",
     "text": [
      "computing greedy matching.\n"
     ]
    },
    {
     "name": "stderr",
     "output_type": "stream",
     "text": [
      "100%|██████████| 1/1 [00:00<00:00, 394.83it/s]"
     ]
    },
    {
     "name": "stdout",
     "output_type": "stream",
     "text": [
      "done in 0.05 seconds, 202.13 sentences/sec\n"
     ]
    },
    {
     "name": "stderr",
     "output_type": "stream",
     "text": [
      "\n"
     ]
    },
    {
     "name": "stdout",
     "output_type": "stream",
     "text": [
      "calculating scores...\n",
      "computing bert embedding.\n"
     ]
    },
    {
     "name": "stderr",
     "output_type": "stream",
     "text": [
      "100%|██████████| 1/1 [00:00<00:00,  7.18it/s]\n"
     ]
    },
    {
     "name": "stdout",
     "output_type": "stream",
     "text": [
      "computing greedy matching.\n"
     ]
    },
    {
     "name": "stderr",
     "output_type": "stream",
     "text": [
      "100%|██████████| 1/1 [00:00<00:00, 211.47it/s]"
     ]
    },
    {
     "name": "stdout",
     "output_type": "stream",
     "text": [
      "done in 0.16 seconds, 167.27 sentences/sec\n"
     ]
    },
    {
     "name": "stderr",
     "output_type": "stream",
     "text": [
      "\n"
     ]
    },
    {
     "name": "stdout",
     "output_type": "stream",
     "text": [
      "calculating scores...\n",
      "computing bert embedding.\n"
     ]
    },
    {
     "name": "stderr",
     "output_type": "stream",
     "text": [
      "100%|██████████| 1/1 [00:00<00:00,  9.30it/s]\n"
     ]
    },
    {
     "name": "stdout",
     "output_type": "stream",
     "text": [
      "computing greedy matching.\n"
     ]
    },
    {
     "name": "stderr",
     "output_type": "stream",
     "text": [
      "100%|██████████| 1/1 [00:00<00:00, 199.49it/s]"
     ]
    },
    {
     "name": "stdout",
     "output_type": "stream",
     "text": [
      "done in 0.13 seconds, 179.94 sentences/sec\n"
     ]
    },
    {
     "name": "stderr",
     "output_type": "stream",
     "text": [
      "\n"
     ]
    },
    {
     "name": "stdout",
     "output_type": "stream",
     "text": [
      "calculating scores...\n",
      "computing bert embedding.\n"
     ]
    },
    {
     "name": "stderr",
     "output_type": "stream",
     "text": [
      "100%|██████████| 1/1 [00:00<00:00, 11.72it/s]\n"
     ]
    },
    {
     "name": "stdout",
     "output_type": "stream",
     "text": [
      "computing greedy matching.\n"
     ]
    },
    {
     "name": "stderr",
     "output_type": "stream",
     "text": [
      "100%|██████████| 1/1 [00:00<00:00, 202.50it/s]"
     ]
    },
    {
     "name": "stdout",
     "output_type": "stream",
     "text": [
      "done in 0.10 seconds, 153.70 sentences/sec\n"
     ]
    },
    {
     "name": "stderr",
     "output_type": "stream",
     "text": [
      "\n"
     ]
    },
    {
     "name": "stdout",
     "output_type": "stream",
     "text": [
      "calculating scores...\n",
      "computing bert embedding.\n"
     ]
    },
    {
     "name": "stderr",
     "output_type": "stream",
     "text": [
      "100%|██████████| 2/2 [00:00<00:00, 27.90it/s]\n"
     ]
    },
    {
     "name": "stdout",
     "output_type": "stream",
     "text": [
      "computing greedy matching.\n"
     ]
    },
    {
     "name": "stderr",
     "output_type": "stream",
     "text": [
      "100%|██████████| 1/1 [00:00<00:00, 189.66it/s]"
     ]
    },
    {
     "name": "stdout",
     "output_type": "stream",
     "text": [
      "done in 0.08 seconds, 435.85 sentences/sec\n"
     ]
    },
    {
     "name": "stderr",
     "output_type": "stream",
     "text": [
      "\n"
     ]
    },
    {
     "name": "stdout",
     "output_type": "stream",
     "text": [
      "calculating scores...\n",
      "computing bert embedding.\n"
     ]
    },
    {
     "name": "stderr",
     "output_type": "stream",
     "text": [
      "100%|██████████| 1/1 [00:00<00:00, 21.73it/s]\n"
     ]
    },
    {
     "name": "stdout",
     "output_type": "stream",
     "text": [
      "computing greedy matching.\n"
     ]
    },
    {
     "name": "stderr",
     "output_type": "stream",
     "text": [
      "100%|██████████| 1/1 [00:00<00:00, 425.77it/s]"
     ]
    },
    {
     "name": "stdout",
     "output_type": "stream",
     "text": [
      "done in 0.05 seconds, 188.47 sentences/sec\n"
     ]
    },
    {
     "name": "stderr",
     "output_type": "stream",
     "text": [
      "\n"
     ]
    }
   ],
   "source": [
    "for domain in new_data.keys():\n",
    "    for k in new_data[domain].keys():\n",
    "        if k!=\"Todo\":\n",
    "            P, R, F1 = score(new_data[domain][k], orig_data[domain][k], lang='en', verbose=True)\n",
    "            F1=F1.tolist()\n",
    "            F1, new_data[domain][k] = zip(*sorted(zip(F1, new_data[domain][k]), reverse=True))\n",
    "            if len(new_data[domain][k])>max_len[domain][k]:\n",
    "                new_data[domain][k]=new_data[domain][k][:max_len[domain][k]]"
   ]
  },
  {
   "cell_type": "code",
   "execution_count": 21,
   "id": "0e4d5584",
   "metadata": {},
   "outputs": [],
   "source": [
    "new_case={'id':\"1\", \"sentences\":[], \"labels\":[], \"pid\":\"1\", \"domain\":\"case\"}\n",
    "\n",
    "for k in new_data['case'].keys():\n",
    "    if k!=\"Todo\":\n",
    "        for d in new_data['case'][k]:\n",
    "            new_case['sentences'].append(d)\n",
    "            new_case['labels'].append(k)\n",
    "            "
   ]
  },
  {
   "cell_type": "code",
   "execution_count": 22,
   "id": "dd34cc56",
   "metadata": {},
   "outputs": [
    {
     "name": "stdout",
     "output_type": "stream",
     "text": [
      "10\n",
      "19\n"
     ]
    }
   ],
   "source": [
    "print(len(new_data['case']['Other']))\n",
    "print(len(new_data['case']['Recap']))"
   ]
  },
  {
   "cell_type": "code",
   "execution_count": 23,
   "id": "3c762725",
   "metadata": {},
   "outputs": [
    {
     "name": "stdout",
     "output_type": "stream",
     "text": [
      "19\n"
     ]
    }
   ],
   "source": [
    "cnt=0\n",
    "for d in new_case['labels']:\n",
    "    if d==\"Recap\":\n",
    "        cnt+=1\n",
    "        \n",
    "print(cnt)"
   ]
  },
  {
   "cell_type": "code",
   "execution_count": 24,
   "id": "61b6adb8",
   "metadata": {},
   "outputs": [],
   "source": [
    "domain='diso'\n",
    "new_diso={'id':\"1\", \"sentences\":[], \"labels\":[], \"pid\":\"1\", \"domain\":domain}\n",
    "\n",
    "for k in new_data['diso'].keys():\n",
    "    if k!=\"Todo\":\n",
    "        for d in new_data['diso'][k]:\n",
    "            new_diso['sentences'].append(d)\n",
    "            new_diso['labels'].append(k)"
   ]
  },
  {
   "cell_type": "code",
   "execution_count": 26,
   "id": "87f9e28a",
   "metadata": {},
   "outputs": [
    {
     "name": "stdout",
     "output_type": "stream",
     "text": [
      "16\n",
      "13\n"
     ]
    }
   ],
   "source": [
    "print(len(new_data['diso']['Other']))\n",
    "print(len(new_data['diso']['Recap']))\n"
   ]
  },
  {
   "cell_type": "code",
   "execution_count": 27,
   "id": "87f6b0eb",
   "metadata": {},
   "outputs": [],
   "source": [
    "domain='rpkg'\n",
    "new_rpkg={'id':\"1\", \"sentences\":[], \"labels\":[], \"pid\":\"1\", \"domain\":domain}\n",
    "\n",
    "for k in new_data['rpkg'].keys():\n",
    "    if k!=\"Todo\":\n",
    "        for d in new_data['rpkg'][k]:\n",
    "            new_rpkg['sentences'].append(d)\n",
    "            new_rpkg['labels'].append(k)"
   ]
  },
  {
   "cell_type": "code",
   "execution_count": 28,
   "id": "507dc4d5",
   "metadata": {},
   "outputs": [],
   "source": [
    "domain='iscb'\n",
    "new_iscb={'id':\"1\", \"sentences\":[], \"labels\":[], \"pid\":\"1\", \"domain\":domain}\n",
    "\n",
    "for k in new_data['iscb'].keys():\n",
    "    if k!=\"Todo\":\n",
    "        for d in new_data['iscb'][k]:\n",
    "            new_iscb['sentences'].append(d)\n",
    "            new_iscb['labels'].append(k)"
   ]
  },
  {
   "cell_type": "code",
   "execution_count": 29,
   "id": "1535b17c",
   "metadata": {},
   "outputs": [],
   "source": [
    "domain='scip'\n",
    "new_scip={'id':\"1\", \"sentences\":[], \"labels\":[], \"pid\":\"1\", \"domain\":domain}\n",
    "\n",
    "for k in new_data['scip'].keys():\n",
    "    if k!=\"Todo\":\n",
    "        for d in new_data['scip'][k]:\n",
    "            new_scip['sentences'].append(d)\n",
    "            new_scip['labels'].append(k)"
   ]
  },
  {
   "cell_type": "code",
   "execution_count": 30,
   "id": "852f230c",
   "metadata": {},
   "outputs": [
    {
     "name": "stdout",
     "output_type": "stream",
     "text": [
      "70\n",
      "101\n",
      "87\n",
      "104\n",
      "67\n"
     ]
    }
   ],
   "source": [
    "print(len(new_case['sentences']))\n",
    "print(len(new_iscb['sentences']))\n",
    "print(len(new_diso['sentences']))\n",
    "print(len(new_scip['sentences']))\n",
    "print(len(new_rpkg['sentences']))"
   ]
  },
  {
   "cell_type": "code",
   "execution_count": 32,
   "id": "c67dfa0f",
   "metadata": {},
   "outputs": [],
   "source": [
    "random.seed(1004)"
   ]
  },
  {
   "cell_type": "code",
   "execution_count": 33,
   "id": "cbd6013a",
   "metadata": {},
   "outputs": [],
   "source": [
    "temp = list(zip(new_case['sentences'], new_case['labels']))\n",
    "random.shuffle(temp)\n",
    "new_case['sentences'], new_case['labels'] = zip(*temp)"
   ]
  },
  {
   "cell_type": "code",
   "execution_count": 34,
   "id": "a7f66ca9",
   "metadata": {},
   "outputs": [],
   "source": [
    "temp = list(zip(new_iscb['sentences'], new_iscb['labels']))\n",
    "random.shuffle(temp)\n",
    "new_iscb['sentences'], new_iscb['labels'] = zip(*temp)\n"
   ]
  },
  {
   "cell_type": "code",
   "execution_count": 35,
   "id": "d9f085f2",
   "metadata": {},
   "outputs": [],
   "source": [
    "temp = list(zip(new_diso['sentences'], new_diso['labels']))\n",
    "random.shuffle(temp)\n",
    "new_diso['sentences'], new_diso['labels'] = zip(*temp)"
   ]
  },
  {
   "cell_type": "code",
   "execution_count": 36,
   "id": "89143858",
   "metadata": {},
   "outputs": [],
   "source": [
    "temp = list(zip(new_scip['sentences'], new_scip['labels']))\n",
    "random.shuffle(temp)\n",
    "new_scip['sentences'], new_scip['labels'] = zip(*temp)"
   ]
  },
  {
   "cell_type": "code",
   "execution_count": 37,
   "id": "a154e807",
   "metadata": {},
   "outputs": [],
   "source": [
    "temp = list(zip(new_case['sentences'], new_case['labels']))\n",
    "random.shuffle(temp)\n",
    "new_rpkg['sentences'], new_rpkg['labels'] = zip(*temp)"
   ]
  },
  {
   "cell_type": "code",
   "execution_count": 38,
   "id": "fdbd50d6",
   "metadata": {},
   "outputs": [],
   "source": [
    "new_merged=[new_case, new_iscb, new_diso, new_scip, new_rpkg]"
   ]
  },
  {
   "cell_type": "code",
   "execution_count": 39,
   "id": "8bab79c2",
   "metadata": {},
   "outputs": [
    {
     "data": {
      "text/plain": [
       "34"
      ]
     },
     "execution_count": 39,
     "metadata": {},
     "output_type": "execute_result"
    }
   ],
   "source": [
    "len(orig_train)"
   ]
  },
  {
   "cell_type": "code",
   "execution_count": 40,
   "id": "908e3637",
   "metadata": {},
   "outputs": [],
   "source": [
    "orig_train.extend(new_merged)"
   ]
  },
  {
   "cell_type": "code",
   "execution_count": 42,
   "id": "709edf8e",
   "metadata": {},
   "outputs": [],
   "source": [
    "save_dir='../train_nlpaug.json'"
   ]
  },
  {
   "cell_type": "code",
   "execution_count": 43,
   "id": "861b6e59",
   "metadata": {},
   "outputs": [],
   "source": [
    "with open(save_dir, 'w') as f:\n",
    "    json.dump(orig_train, f)"
   ]
  },
  {
   "cell_type": "code",
   "execution_count": null,
   "id": "84fb08a1",
   "metadata": {},
   "outputs": [],
   "source": []
  }
 ],
 "metadata": {
  "kernelspec": {
   "display_name": "Python [conda:.conda-factscore]",
   "language": "python",
   "name": "conda-env-.conda-factscore-py"
  },
  "language_info": {
   "codemirror_mode": {
    "name": "ipython",
    "version": 3
   },
   "file_extension": ".py",
   "mimetype": "text/x-python",
   "name": "python",
   "nbconvert_exporter": "python",
   "pygments_lexer": "ipython3",
   "version": "3.11.4"
  }
 },
 "nbformat": 4,
 "nbformat_minor": 5
}
